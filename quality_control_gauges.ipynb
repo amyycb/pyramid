{
 "cells": [
  {
   "cell_type": "code",
   "execution_count": null,
   "id": "f70e0443",
   "metadata": {},
   "outputs": [],
   "source": [
    "### Quality control gauges\n",
    "\n",
    "New file format, folder for rain gauges, inside each gauge has own individual file of raw data\n"
   ]
  },
  {
   "cell_type": "code",
   "execution_count": 1,
   "id": "ee7aae32",
   "metadata": {},
   "outputs": [],
   "source": [
    "import os\n",
    "from os.path import exists, join\n",
    "import pandas as pd\n",
    "import numpy as np"
   ]
  },
  {
   "cell_type": "code",
   "execution_count": null,
   "id": "ad71e485",
   "metadata": {},
   "outputs": [],
   "source": []
  },
  {
   "cell_type": "code",
   "execution_count": null,
   "id": "65fadf16",
   "metadata": {},
   "outputs": [],
   "source": [
    "# read in gauge data\n",
    "root_path = r\"C:\\Users\\Amy\\OneDrive - Newcastle University\\Documents\\PYRAMID\\data\\event\\gauges\""
   ]
  },
  {
   "cell_type": "code",
   "execution_count": 2,
   "id": "f1a3d45f",
   "metadata": {},
   "outputs": [],
   "source": []
  },
  {
   "cell_type": "code",
   "execution_count": 3,
   "id": "7cd66b51",
   "metadata": {},
   "outputs": [
    {
     "data": {
      "text/plain": [
       "['EA',\n",
       " 'EA-003066_389250_606250.csv',\n",
       " 'EA-003232_405850_602050.csv',\n",
       " 'EA-004942_423550_605950.csv',\n",
       " 'EA-005588_430550_586850.csv',\n",
       " 'EA-005782_403650_584450.csv',\n",
       " 'EA-006077_397550_590350.csv',\n",
       " 'EA-006403_405250_593750.csv',\n",
       " 'EA-007292_402050_571050.csv',\n",
       " 'EA-008062_429550_582150.csv',\n",
       " 'EA-008632_435450_572650.csv',\n",
       " 'EA-008850_365750_595850.csv',\n",
       " 'EA-010312_376150_583250.csv',\n",
       " 'EA-010660_374950_603050.csv',\n",
       " 'EA-013045_375750_538650.csv',\n",
       " 'EA-013336_366850_542350.csv',\n",
       " 'EA-013553_371450_547350.csv',\n",
       " 'EA-013878_366550_553050.csv',\n",
       " 'EA-014555_368050_564050.csv',\n",
       " 'EA-015313_394650_568450.csv',\n",
       " 'EA-015347_385850_545550.csv',\n",
       " 'EA-016140_389850_562850.csv',\n",
       " 'EA-017220_407650_569450.csv',\n",
       " 'EA-017651_420250_567350.csv',\n",
       " 'EA-018777_421250_551850.csv',\n",
       " 'EA-019271_424750_571050.csv',\n",
       " 'EA-021028_438950_560650.csv',\n",
       " 'EA-021228_384950_539250.csv',\n",
       " 'EA-022163_406350_540750.csv',\n",
       " 'EA-023839_412450_548350.csv',\n",
       " 'EA-025394_432850_555650.csv',\n",
       " 'EA-602253_360950_542850.csv',\n",
       " 'EA-603111_369350_577750.csv',\n",
       " 'EA-603315_364250_570350.csv',\n",
       " 'EA-604040_357550_553750.csv',\n",
       " 'gridded',\n",
       " 'NGIF-Lysimeter3Rain-5minutes_424049.428_564383.522.csv',\n",
       " 'NGIF-Lysimeter4Rain-5minutes_424049.77_564389.185.csv',\n",
       " 'NGIF-Lysimeter7Rain-5minutes_424051.202_564407.266.csv',\n",
       " 'UO-PER-EMLFLOOD-UO-ACOMBFLOOD_393282_566673.csv',\n",
       " 'UO-PER-EMLFLOOD-UO-BALTIC_425880_563933.csv',\n",
       " 'UO-PER-EMLFLOOD-UO-BIRTLEYFS_427141_556150.csv',\n",
       " 'UO-PER-EMLFLOOD-UO-CHOPWELLFS_411786_558280.csv',\n",
       " 'UO-PER-EMLFLOOD-UO-DALLANS_423572_565557.csv',\n",
       " 'UO-PER-EMLFLOOD-UO-KGATE_424817_565009.csv',\n",
       " 'UO-PER-EMLFLOOD-UO-NFARM_406375_565775.csv',\n",
       " 'UO-PER-EMLFLOOD-UO-NZOO_418968_597610.csv',\n",
       " 'UO-PER-EMLFLOOD-UO-SSHIELDSFS_436795_563958.csv',\n",
       " 'UO-PER-EMLFLOOD-UO-STTMORE_433442_569431.csv',\n",
       " 'UO-PER-EMLFLOOD-UO-SUNDERLANDFS_437998_559263.csv',\n",
       " 'UO-PER-EMLFLOOD-UO-TMOUTHFS_434988_570295.csv',\n",
       " 'UO-PER-EMLFLOOD-UO-WALLSENDFS_431245_566523.csv',\n",
       " 'UO-PER-EMLFLOOD-UO-WDENTONFS_418897_566580.csv',\n",
       " 'UO-PER-WEATHER-CRADLWELLWEATHERSTAT_426056_565880.csv',\n",
       " 'UO-PER-WUNDERGROUND-IHEDDONO2_413247_567029.csv']"
      ]
     },
     "execution_count": 3,
     "metadata": {},
     "output_type": "execute_result"
    }
   ],
   "source": [
    "os.listdir(root_path)"
   ]
  },
  {
   "cell_type": "code",
   "execution_count": null,
   "id": "4f723c1e",
   "metadata": {},
   "outputs": [],
   "source": []
  }
 ],
 "metadata": {
  "kernelspec": {
   "display_name": "Python 3 (ipykernel)",
   "language": "python",
   "name": "python3"
  },
  "language_info": {
   "codemirror_mode": {
    "name": "ipython",
    "version": 3
   },
   "file_extension": ".py",
   "mimetype": "text/x-python",
   "name": "python",
   "nbconvert_exporter": "python",
   "pygments_lexer": "ipython3",
   "version": "3.8.13"
  }
 },
 "nbformat": 4,
 "nbformat_minor": 5
}

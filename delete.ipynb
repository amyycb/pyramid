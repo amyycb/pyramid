{
 "cells": [
  {
   "cell_type": "code",
   "execution_count": null,
   "id": "6b34a984",
   "metadata": {},
   "outputs": [],
   "source": []
  },
  {
   "cell_type": "code",
   "execution_count": null,
   "id": "83210621",
   "metadata": {},
   "outputs": [],
   "source": [
    "# Get list of rainfall stations\n",
    "root = \"http://environment.data.gov.uk/flood-monitoring\"\n",
    "response = requests.get(root + \"/id/stations?parameter=rainfall\")\n",
    "r = response.json()[\"items\"]\n",
    "df = pd.json_normalize(r)"
   ]
  }
 ],
 "metadata": {
  "kernelspec": {
   "display_name": "Python 3 (ipykernel)",
   "language": "python",
   "name": "python3"
  },
  "language_info": {
   "codemirror_mode": {
    "name": "ipython",
    "version": 3
   },
   "file_extension": ".py",
   "mimetype": "text/x-python",
   "name": "python",
   "nbconvert_exporter": "python",
   "pygments_lexer": "ipython3",
   "version": "3.8.13"
  }
 },
 "nbformat": 4,
 "nbformat_minor": 5
}

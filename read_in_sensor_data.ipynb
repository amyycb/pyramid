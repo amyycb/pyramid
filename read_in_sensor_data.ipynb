{
 "cells": [
  {
   "cell_type": "markdown",
   "id": "b2be630d",
   "metadata": {},
   "source": [
    "# Readin in sensor data\n",
    "\n",
    "### Notes\n",
    "- If reading in historic data, different APIs to real time\n",
    "- NGIF data API changed, currently not working though\n",
    "\n",
    "### Data to read in\n",
    "\n",
    "- Enviornment agency\n",
    "    - Rain gauges\n",
    "    - Wind speed\n",
    "    \n",
    "- Met Office\n",
    "    - Radar \n",
    "- National Green Infrastructure Facility\n",
    "    - Rain gauges\n"
   ]
  },
  {
   "cell_type": "code",
   "execution_count": 20,
   "id": "33ee6acf",
   "metadata": {},
   "outputs": [],
   "source": [
    "# import relevent packages\n",
    "import os\n",
    "from os.path import join, exists\n",
    "import requests\n",
    "import pandas as pd\n",
    "import numpy as np\n",
    "import io"
   ]
  },
  {
   "cell_type": "code",
   "execution_count": 2,
   "id": "a7636cf7",
   "metadata": {},
   "outputs": [],
   "source": [
    "#### inputs to change ####\n",
    "\n",
    "e_l, n_l, e_u, n_u = [356463.4647827 , 534388.19070139, 439723.82310863, 607723.4645546]\n",
    "lon_l, lat_l, lon_u, lat_u = [-2.68586897, 54.70355474, -1.38100634, 55.36310586]\n",
    "\n",
    "start_time = \"2012-06-01\"\n",
    "end_time = \"2012-06-13\"\n",
    "\n",
    "root_path = r\"C:\\Users\\Amy\\OneDrive - Newcastle University\\Documents\\PYRAMID\\data\\event\\inputs\"\n",
    "\n",
    "# output folder for rain gauge data\n",
    "out_path = join(root_path, \"rainfall\")\n",
    "if not exists(out_path):\n",
    "    os.mkdir(out_path)"
   ]
  },
  {
   "cell_type": "code",
   "execution_count": null,
   "id": "3b5a3937",
   "metadata": {},
   "outputs": [],
   "source": [
    "### EA rain gauge data (historic)\n",
    "\n",
    "# Get list of rainfall stations\n",
    "root = \"http://environment.data.gov.uk/flood-monitoring\"\n",
    "response = requests.get(root + \"/id/stations?parameter=rainfall\")\n",
    "r = response.json()[\"items\"]\n",
    "df = pd.json_normalize(r)\n",
    "\n",
    "# Get stations in area\n",
    "extent_stations = df.loc[(df.northing > n_l) & (df.northing < n_u) & (df.easting > e_l) & (df.easting < e_u)]\n",
    "station_ids = extent_stations.stationReference.to_list()\n",
    "col_names = np.array(extent_stations.stationReference + \"_\" + extent_stations.easting.astype(int).astype(\n",
    "    str) + \"_\" + extent_stations.northing.astype(int).astype(str))\n",
    "\n",
    "iids = np.array(extent_stations.measures.str[0].str[\"@id\"])\n",
    "\n",
    "dates = pd.date_range(start_time, end_time)"
   ]
  },
  {
   "cell_type": "code",
   "execution_count": 9,
   "id": "2bbbd05d",
   "metadata": {},
   "outputs": [],
   "source": [
    "for date_ts in dates:\n",
    "    date = str(date_ts).split(\" \")[0]\n",
    "    print(date)\n",
    "    \n",
    "    "
   ]
  },
  {
   "cell_type": "code",
   "execution_count": 34,
   "id": "7fde9b3f",
   "metadata": {},
   "outputs": [
    {
     "name": "stdout",
     "output_type": "stream",
     "text": [
      "2012-06-01\n",
      "{'_content': b'<html>\\r\\n<head><title>404 Not Found</title></head>\\r\\n<body>\\r\\n<center><h1>404 Not Found</h1></center>\\r\\n<hr><center>nginx</center>\\r\\n</body>\\r\\n</html>\\r\\n', '_content_consumed': True, '_next': None, 'status_code': 404, 'headers': {'Server': 'nginx', 'Date': 'Mon, 27 Feb 2023 16:44:04 GMT', 'Content-Type': 'text/html', 'Content-Length': '146', 'Connection': 'keep-alive', 'via': '1.1 google', 'Alt-Svc': 'h3=\":443\"; ma=2592000,h3-29=\":443\"; ma=2592000'}, 'raw': <urllib3.response.HTTPResponse object at 0x000002892CA8E1F0>, 'url': 'http://environment.data.gov.uk/flood-monitoring/archive/readings-full-2012-06-01.csv', 'encoding': 'ISO-8859-1', 'history': [], 'reason': 'Not Found', 'cookies': <RequestsCookieJar[]>, 'elapsed': datetime.timedelta(seconds=1, microseconds=95533), 'request': <PreparedRequest [GET]>, 'connection': <requests.adapters.HTTPAdapter object at 0x000002892BAC0D30>}\n",
      "2012-06-02\n",
      "{'_content': b'<html>\\r\\n<head><title>404 Not Found</title></head>\\r\\n<body>\\r\\n<center><h1>404 Not Found</h1></center>\\r\\n<hr><center>nginx</center>\\r\\n</body>\\r\\n</html>\\r\\n', '_content_consumed': True, '_next': None, 'status_code': 404, 'headers': {'Server': 'nginx', 'Date': 'Mon, 27 Feb 2023 16:44:04 GMT', 'Content-Type': 'text/html', 'Content-Length': '146', 'Connection': 'keep-alive', 'via': '1.1 google', 'Alt-Svc': 'h3=\":443\"; ma=2592000,h3-29=\":443\"; ma=2592000'}, 'raw': <urllib3.response.HTTPResponse object at 0x000002892BAC0670>, 'url': 'http://environment.data.gov.uk/flood-monitoring/archive/readings-full-2012-06-02.csv', 'encoding': 'ISO-8859-1', 'history': [], 'reason': 'Not Found', 'cookies': <RequestsCookieJar[]>, 'elapsed': datetime.timedelta(microseconds=72650), 'request': <PreparedRequest [GET]>, 'connection': <requests.adapters.HTTPAdapter object at 0x00000289277AEE50>}\n",
      "2012-06-03\n",
      "{'_content': b'<html>\\r\\n<head><title>404 Not Found</title></head>\\r\\n<body>\\r\\n<center><h1>404 Not Found</h1></center>\\r\\n<hr><center>nginx</center>\\r\\n</body>\\r\\n</html>\\r\\n', '_content_consumed': True, '_next': None, 'status_code': 404, 'headers': {'Server': 'nginx', 'Date': 'Mon, 27 Feb 2023 16:44:04 GMT', 'Content-Type': 'text/html', 'Content-Length': '146', 'Connection': 'keep-alive', 'via': '1.1 google', 'Alt-Svc': 'h3=\":443\"; ma=2592000,h3-29=\":443\"; ma=2592000'}, 'raw': <urllib3.response.HTTPResponse object at 0x000002892BAC0BB0>, 'url': 'http://environment.data.gov.uk/flood-monitoring/archive/readings-full-2012-06-03.csv', 'encoding': 'ISO-8859-1', 'history': [], 'reason': 'Not Found', 'cookies': <RequestsCookieJar[]>, 'elapsed': datetime.timedelta(microseconds=61074), 'request': <PreparedRequest [GET]>, 'connection': <requests.adapters.HTTPAdapter object at 0x000002892BAD8460>}\n",
      "2012-06-04\n",
      "{'_content': b'<html>\\r\\n<head><title>404 Not Found</title></head>\\r\\n<body>\\r\\n<center><h1>404 Not Found</h1></center>\\r\\n<hr><center>nginx</center>\\r\\n</body>\\r\\n</html>\\r\\n', '_content_consumed': True, '_next': None, 'status_code': 404, 'headers': {'Server': 'nginx', 'Date': 'Mon, 27 Feb 2023 16:44:05 GMT', 'Content-Type': 'text/html', 'Content-Length': '146', 'Connection': 'keep-alive', 'via': '1.1 google', 'Alt-Svc': 'h3=\":443\"; ma=2592000,h3-29=\":443\"; ma=2592000'}, 'raw': <urllib3.response.HTTPResponse object at 0x000002892BAC0760>, 'url': 'http://environment.data.gov.uk/flood-monitoring/archive/readings-full-2012-06-04.csv', 'encoding': 'ISO-8859-1', 'history': [], 'reason': 'Not Found', 'cookies': <RequestsCookieJar[]>, 'elapsed': datetime.timedelta(microseconds=58246), 'request': <PreparedRequest [GET]>, 'connection': <requests.adapters.HTTPAdapter object at 0x000002892CA01370>}\n",
      "2012-06-05\n",
      "{'_content': b'<html>\\r\\n<head><title>404 Not Found</title></head>\\r\\n<body>\\r\\n<center><h1>404 Not Found</h1></center>\\r\\n<hr><center>nginx</center>\\r\\n</body>\\r\\n</html>\\r\\n', '_content_consumed': True, '_next': None, 'status_code': 404, 'headers': {'Server': 'nginx', 'Date': 'Mon, 27 Feb 2023 16:44:05 GMT', 'Content-Type': 'text/html', 'Content-Length': '146', 'Connection': 'keep-alive', 'via': '1.1 google', 'Alt-Svc': 'h3=\":443\"; ma=2592000,h3-29=\":443\"; ma=2592000'}, 'raw': <urllib3.response.HTTPResponse object at 0x000002892BAC0D00>, 'url': 'http://environment.data.gov.uk/flood-monitoring/archive/readings-full-2012-06-05.csv', 'encoding': 'ISO-8859-1', 'history': [], 'reason': 'Not Found', 'cookies': <RequestsCookieJar[]>, 'elapsed': datetime.timedelta(microseconds=64565), 'request': <PreparedRequest [GET]>, 'connection': <requests.adapters.HTTPAdapter object at 0x000002892CA01100>}\n",
      "2012-06-06\n",
      "{'_content': b'<html>\\r\\n<head><title>404 Not Found</title></head>\\r\\n<body>\\r\\n<center><h1>404 Not Found</h1></center>\\r\\n<hr><center>nginx</center>\\r\\n</body>\\r\\n</html>\\r\\n', '_content_consumed': True, '_next': None, 'status_code': 404, 'headers': {'Server': 'nginx', 'Date': 'Mon, 27 Feb 2023 16:44:05 GMT', 'Content-Type': 'text/html', 'Content-Length': '146', 'Connection': 'keep-alive', 'via': '1.1 google', 'Alt-Svc': 'h3=\":443\"; ma=2592000,h3-29=\":443\"; ma=2592000'}, 'raw': <urllib3.response.HTTPResponse object at 0x000002892BAC0AF0>, 'url': 'http://environment.data.gov.uk/flood-monitoring/archive/readings-full-2012-06-06.csv', 'encoding': 'ISO-8859-1', 'history': [], 'reason': 'Not Found', 'cookies': <RequestsCookieJar[]>, 'elapsed': datetime.timedelta(microseconds=60156), 'request': <PreparedRequest [GET]>, 'connection': <requests.adapters.HTTPAdapter object at 0x000002892BAD8AF0>}\n",
      "2012-06-07\n",
      "{'_content': b'<html>\\r\\n<head><title>404 Not Found</title></head>\\r\\n<body>\\r\\n<center><h1>404 Not Found</h1></center>\\r\\n<hr><center>nginx</center>\\r\\n</body>\\r\\n</html>\\r\\n', '_content_consumed': True, '_next': None, 'status_code': 404, 'headers': {'Server': 'nginx', 'Date': 'Mon, 27 Feb 2023 16:44:05 GMT', 'Content-Type': 'text/html', 'Content-Length': '146', 'Connection': 'keep-alive', 'via': '1.1 google', 'Alt-Svc': 'h3=\":443\"; ma=2592000,h3-29=\":443\"; ma=2592000'}, 'raw': <urllib3.response.HTTPResponse object at 0x000002892BAC0070>, 'url': 'http://environment.data.gov.uk/flood-monitoring/archive/readings-full-2012-06-07.csv', 'encoding': 'ISO-8859-1', 'history': [], 'reason': 'Not Found', 'cookies': <RequestsCookieJar[]>, 'elapsed': datetime.timedelta(microseconds=57336), 'request': <PreparedRequest [GET]>, 'connection': <requests.adapters.HTTPAdapter object at 0x000002892CA838B0>}\n",
      "2012-06-08\n",
      "{'_content': b'<html>\\r\\n<head><title>404 Not Found</title></head>\\r\\n<body>\\r\\n<center><h1>404 Not Found</h1></center>\\r\\n<hr><center>nginx</center>\\r\\n</body>\\r\\n</html>\\r\\n', '_content_consumed': True, '_next': None, 'status_code': 404, 'headers': {'Server': 'nginx', 'Date': 'Mon, 27 Feb 2023 16:44:05 GMT', 'Content-Type': 'text/html', 'Content-Length': '146', 'Connection': 'keep-alive', 'via': '1.1 google', 'Alt-Svc': 'h3=\":443\"; ma=2592000,h3-29=\":443\"; ma=2592000'}, 'raw': <urllib3.response.HTTPResponse object at 0x000002892BAC0D00>, 'url': 'http://environment.data.gov.uk/flood-monitoring/archive/readings-full-2012-06-08.csv', 'encoding': 'ISO-8859-1', 'history': [], 'reason': 'Not Found', 'cookies': <RequestsCookieJar[]>, 'elapsed': datetime.timedelta(microseconds=81527), 'request': <PreparedRequest [GET]>, 'connection': <requests.adapters.HTTPAdapter object at 0x00000289277AED60>}\n",
      "2012-06-09\n",
      "{'_content': b'<html>\\r\\n<head><title>404 Not Found</title></head>\\r\\n<body>\\r\\n<center><h1>404 Not Found</h1></center>\\r\\n<hr><center>nginx</center>\\r\\n</body>\\r\\n</html>\\r\\n', '_content_consumed': True, '_next': None, 'status_code': 404, 'headers': {'Server': 'nginx', 'Date': 'Mon, 27 Feb 2023 16:44:05 GMT', 'Content-Type': 'text/html', 'Content-Length': '146', 'Connection': 'keep-alive', 'via': '1.1 google', 'Alt-Svc': 'h3=\":443\"; ma=2592000,h3-29=\":443\"; ma=2592000'}, 'raw': <urllib3.response.HTTPResponse object at 0x000002892BAC0640>, 'url': 'http://environment.data.gov.uk/flood-monitoring/archive/readings-full-2012-06-09.csv', 'encoding': 'ISO-8859-1', 'history': [], 'reason': 'Not Found', 'cookies': <RequestsCookieJar[]>, 'elapsed': datetime.timedelta(microseconds=65617), 'request': <PreparedRequest [GET]>, 'connection': <requests.adapters.HTTPAdapter object at 0x000002892BAD3A00>}\n",
      "2012-06-10\n",
      "{'_content': b'<html>\\r\\n<head><title>404 Not Found</title></head>\\r\\n<body>\\r\\n<center><h1>404 Not Found</h1></center>\\r\\n<hr><center>nginx</center>\\r\\n</body>\\r\\n</html>\\r\\n', '_content_consumed': True, '_next': None, 'status_code': 404, 'headers': {'Server': 'nginx', 'Date': 'Mon, 27 Feb 2023 16:44:05 GMT', 'Content-Type': 'text/html', 'Content-Length': '146', 'Connection': 'keep-alive', 'via': '1.1 google', 'Alt-Svc': 'h3=\":443\"; ma=2592000,h3-29=\":443\"; ma=2592000'}, 'raw': <urllib3.response.HTTPResponse object at 0x000002892BAC0820>, 'url': 'http://environment.data.gov.uk/flood-monitoring/archive/readings-full-2012-06-10.csv', 'encoding': 'ISO-8859-1', 'history': [], 'reason': 'Not Found', 'cookies': <RequestsCookieJar[]>, 'elapsed': datetime.timedelta(microseconds=85190), 'request': <PreparedRequest [GET]>, 'connection': <requests.adapters.HTTPAdapter object at 0x0000028927A348E0>}\n",
      "2012-06-11\n"
     ]
    },
    {
     "name": "stdout",
     "output_type": "stream",
     "text": [
      "{'_content': b'<html>\\r\\n<head><title>404 Not Found</title></head>\\r\\n<body>\\r\\n<center><h1>404 Not Found</h1></center>\\r\\n<hr><center>nginx</center>\\r\\n</body>\\r\\n</html>\\r\\n', '_content_consumed': True, '_next': None, 'status_code': 404, 'headers': {'Server': 'nginx', 'Date': 'Mon, 27 Feb 2023 16:44:05 GMT', 'Content-Type': 'text/html', 'Content-Length': '146', 'Connection': 'keep-alive', 'via': '1.1 google', 'Alt-Svc': 'h3=\":443\"; ma=2592000,h3-29=\":443\"; ma=2592000'}, 'raw': <urllib3.response.HTTPResponse object at 0x000002892BAC0970>, 'url': 'http://environment.data.gov.uk/flood-monitoring/archive/readings-full-2012-06-11.csv', 'encoding': 'ISO-8859-1', 'history': [], 'reason': 'Not Found', 'cookies': <RequestsCookieJar[]>, 'elapsed': datetime.timedelta(microseconds=54370), 'request': <PreparedRequest [GET]>, 'connection': <requests.adapters.HTTPAdapter object at 0x000002892BAD8AF0>}\n",
      "2012-06-12\n",
      "{'_content': b'<html>\\r\\n<head><title>404 Not Found</title></head>\\r\\n<body>\\r\\n<center><h1>404 Not Found</h1></center>\\r\\n<hr><center>nginx</center>\\r\\n</body>\\r\\n</html>\\r\\n', '_content_consumed': True, '_next': None, 'status_code': 404, 'headers': {'Server': 'nginx', 'Date': 'Mon, 27 Feb 2023 16:44:05 GMT', 'Content-Type': 'text/html', 'Content-Length': '146', 'Connection': 'keep-alive', 'via': '1.1 google', 'Alt-Svc': 'h3=\":443\"; ma=2592000,h3-29=\":443\"; ma=2592000'}, 'raw': <urllib3.response.HTTPResponse object at 0x000002892BAC0130>, 'url': 'http://environment.data.gov.uk/flood-monitoring/archive/readings-full-2012-06-12.csv', 'encoding': 'ISO-8859-1', 'history': [], 'reason': 'Not Found', 'cookies': <RequestsCookieJar[]>, 'elapsed': datetime.timedelta(microseconds=78070), 'request': <PreparedRequest [GET]>, 'connection': <requests.adapters.HTTPAdapter object at 0x000002892BAE0130>}\n",
      "2012-06-13\n",
      "{'_content': b'<html>\\r\\n<head><title>404 Not Found</title></head>\\r\\n<body>\\r\\n<center><h1>404 Not Found</h1></center>\\r\\n<hr><center>nginx</center>\\r\\n</body>\\r\\n</html>\\r\\n', '_content_consumed': True, '_next': None, 'status_code': 404, 'headers': {'Server': 'nginx', 'Date': 'Mon, 27 Feb 2023 16:44:05 GMT', 'Content-Type': 'text/html', 'Content-Length': '146', 'Connection': 'keep-alive', 'via': '1.1 google', 'Alt-Svc': 'h3=\":443\"; ma=2592000,h3-29=\":443\"; ma=2592000'}, 'raw': <urllib3.response.HTTPResponse object at 0x000002892BAC04F0>, 'url': 'http://environment.data.gov.uk/flood-monitoring/archive/readings-full-2012-06-13.csv', 'encoding': 'ISO-8859-1', 'history': [], 'reason': 'Not Found', 'cookies': <RequestsCookieJar[]>, 'elapsed': datetime.timedelta(microseconds=71739), 'request': <PreparedRequest [GET]>, 'connection': <requests.adapters.HTTPAdapter object at 0x0000028929265B20>}\n"
     ]
    }
   ],
   "source": [
    "dfs = []\n",
    "dates = pd.date_range(start_time, end_time).strftime(\"%F\")\n",
    "for date in dates:\n",
    "    print(date)\n",
    "    path =  \"http://environment.data.gov.uk/flood-monitoring/archive/readings-full-{date}.csv\" # \"https://environment.data.gov.uk/flood-monitoring/data/readings.csv?date={date}\"\n",
    "    path = path.replace(\"{date}\", str(date))\n",
    "    r = requests.get(path)\n",
    "    print(vars(r))\n",
    "    if r.status_code == 200:\n",
    "        df = pd.read_csv(io.StringIO(r.text), index_col=0, parse_dates=[0])\n",
    "        dfs.append(df[[measure in iids for measure in df.measure]]) #.to_csv(join(ea_out, date + \".csv\"))"
   ]
  },
  {
   "cell_type": "code",
   "execution_count": 30,
   "id": "63641bd0",
   "metadata": {},
   "outputs": [
    {
     "data": {
      "text/plain": [
       "'http://environment.data.gov.uk/flood-monitoring/archive/readings-full-2012-06-13.csv'"
      ]
     },
     "execution_count": 30,
     "metadata": {},
     "output_type": "execute_result"
    }
   ],
   "source": [
    "path"
   ]
  },
  {
   "cell_type": "code",
   "execution_count": 26,
   "id": "c7b58d00",
   "metadata": {},
   "outputs": [
    {
     "data": {
      "text/plain": [
       "<Response [404]>"
      ]
     },
     "execution_count": 26,
     "metadata": {},
     "output_type": "execute_result"
    }
   ],
   "source": [
    "https://environment.data.gov.uk/flood-monitoring/archive/readings-full-2023-02-26.csv"
   ]
  },
  {
   "cell_type": "code",
   "execution_count": null,
   "id": "30abb939",
   "metadata": {},
   "outputs": [],
   "source": []
  }
 ],
 "metadata": {
  "kernelspec": {
   "display_name": "Python 3 (ipykernel)",
   "language": "python",
   "name": "python3"
  },
  "language_info": {
   "codemirror_mode": {
    "name": "ipython",
    "version": 3
   },
   "file_extension": ".py",
   "mimetype": "text/x-python",
   "name": "python",
   "nbconvert_exporter": "python",
   "pygments_lexer": "ipython3",
   "version": "3.8.13"
  }
 },
 "nbformat": 4,
 "nbformat_minor": 5
}
